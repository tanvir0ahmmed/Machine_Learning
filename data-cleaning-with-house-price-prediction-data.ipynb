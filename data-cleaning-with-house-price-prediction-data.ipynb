{
 "cells": [
  {
   "cell_type": "markdown",
   "metadata": {
    "papermill": {
     "duration": 0.014666,
     "end_time": "2020-10-18T13:42:56.720869",
     "exception": false,
     "start_time": "2020-10-18T13:42:56.706203",
     "status": "completed"
    },
    "tags": []
   },
   "source": [
    "<h1> Import Lib </h1>"
   ]
  },
  {
   "cell_type": "code",
   "execution_count": 1,
   "metadata": {
    "execution": {
     "iopub.execute_input": "2020-10-18T13:42:56.756755Z",
     "iopub.status.busy": "2020-10-18T13:42:56.755937Z",
     "iopub.status.idle": "2020-10-18T13:42:57.786411Z",
     "shell.execute_reply": "2020-10-18T13:42:57.787023Z"
    },
    "papermill": {
     "duration": 1.05251,
     "end_time": "2020-10-18T13:42:57.787232",
     "exception": false,
     "start_time": "2020-10-18T13:42:56.734722",
     "status": "completed"
    },
    "tags": []
   },
   "outputs": [],
   "source": [
    "import pandas as pd\n",
    "import numpy as np\n",
    "import matplotlib.pyplot as plt\n",
    "import seaborn as sns\n",
    "import warnings \n",
    "warnings.filterwarnings(\"ignore\")\n",
    "%matplotlib inline"
   ]
  },
  {
   "cell_type": "code",
   "execution_count": 2,
   "metadata": {
    "execution": {
     "iopub.execute_input": "2020-10-18T13:42:57.825261Z",
     "iopub.status.busy": "2020-10-18T13:42:57.824450Z",
     "iopub.status.idle": "2020-10-18T13:42:58.167081Z",
     "shell.execute_reply": "2020-10-18T13:42:58.166326Z"
    },
    "papermill": {
     "duration": 0.365655,
     "end_time": "2020-10-18T13:42:58.167209",
     "exception": false,
     "start_time": "2020-10-18T13:42:57.801554",
     "status": "completed"
    },
    "tags": []
   },
   "outputs": [],
   "source": [
    "from sklearn import preprocessing\n",
    "from sklearn.model_selection import train_test_split\n",
    "from sklearn.ensemble import RandomForestClassifier, AdaBoostClassifier, GradientBoostingClassifier\n",
    "from sklearn.linear_model import LogisticRegression\n",
    "from sklearn.naive_bayes import GaussianNB\n",
    "from sklearn.svm import SVC, LinearSVC, NuSVC\n",
    "from sklearn.neighbors import KNeighborsClassifier\n",
    "from sklearn.tree import DecisionTreeClassifier\n",
    "from scipy.stats import skew\n",
    "from scipy import stats\n",
    "from scipy.stats import boxcox\n",
    "from sklearn.preprocessing import StandardScaler\n",
    "from sklearn.decomposition import PCA\n",
    "from sklearn.feature_selection import SelectKBest, chi2, mutual_info_regression, f_regression\n",
    "from sklearn import ensemble\n",
    "from sklearn.metrics import mean_squared_error\n"
   ]
  },
  {
   "cell_type": "markdown",
   "metadata": {
    "papermill": {
     "duration": 0.014172,
     "end_time": "2020-10-18T13:42:58.198065",
     "exception": false,
     "start_time": "2020-10-18T13:42:58.183893",
     "status": "completed"
    },
    "tags": []
   },
   "source": [
    "<h1> Loda Data </h1>"
   ]
  },
  {
   "cell_type": "code",
   "execution_count": 3,
   "metadata": {
    "execution": {
     "iopub.execute_input": "2020-10-18T13:42:58.243848Z",
     "iopub.status.busy": "2020-10-18T13:42:58.243097Z",
     "iopub.status.idle": "2020-10-18T13:42:58.342746Z",
     "shell.execute_reply": "2020-10-18T13:42:58.342067Z"
    },
    "papermill": {
     "duration": 0.130356,
     "end_time": "2020-10-18T13:42:58.342874",
     "exception": false,
     "start_time": "2020-10-18T13:42:58.212518",
     "status": "completed"
    },
    "tags": []
   },
   "outputs": [],
   "source": [
    "df = pd.read_csv('/kaggle/input/house-prices-data/train.csv')\n",
    "dt = pd.read_csv('/kaggle/input/house-prices-data/test.csv')"
   ]
  },
  {
   "cell_type": "code",
   "execution_count": 4,
   "metadata": {
    "execution": {
     "iopub.execute_input": "2020-10-18T13:42:58.385569Z",
     "iopub.status.busy": "2020-10-18T13:42:58.384530Z",
     "iopub.status.idle": "2020-10-18T13:42:58.389753Z",
     "shell.execute_reply": "2020-10-18T13:42:58.389140Z"
    },
    "papermill": {
     "duration": 0.032561,
     "end_time": "2020-10-18T13:42:58.389880",
     "exception": false,
     "start_time": "2020-10-18T13:42:58.357319",
     "status": "completed"
    },
    "tags": []
   },
   "outputs": [
    {
     "data": {
      "text/plain": [
       "((1460, 81), (1459, 80))"
      ]
     },
     "execution_count": 4,
     "metadata": {},
     "output_type": "execute_result"
    }
   ],
   "source": [
    "df.shape,dt.shape"
   ]
  },
  {
   "cell_type": "markdown",
   "metadata": {
    "papermill": {
     "duration": 0.022281,
     "end_time": "2020-10-18T13:42:58.429205",
     "exception": false,
     "start_time": "2020-10-18T13:42:58.406924",
     "status": "completed"
    },
    "tags": []
   },
   "source": [
    "<h1>Check Null</h1>"
   ]
  },
  {
   "cell_type": "code",
   "execution_count": 5,
   "metadata": {
    "execution": {
     "iopub.execute_input": "2020-10-18T13:42:58.474966Z",
     "iopub.status.busy": "2020-10-18T13:42:58.474180Z",
     "iopub.status.idle": "2020-10-18T13:42:58.515638Z",
     "shell.execute_reply": "2020-10-18T13:42:58.514839Z"
    },
    "papermill": {
     "duration": 0.064385,
     "end_time": "2020-10-18T13:42:58.515770",
     "exception": false,
     "start_time": "2020-10-18T13:42:58.451385",
     "status": "completed"
    },
    "tags": []
   },
   "outputs": [
    {
     "data": {
      "text/plain": [
       "PoolQC          99.520548\n",
       "MiscFeature     96.301370\n",
       "Alley           93.767123\n",
       "Fence           80.753425\n",
       "FireplaceQu     47.260274\n",
       "LotFrontage     17.739726\n",
       "GarageCond       5.547945\n",
       "GarageQual       5.547945\n",
       "GarageFinish     5.547945\n",
       "GarageYrBlt      5.547945\n",
       "GarageType       5.547945\n",
       "BsmtFinType2     2.602740\n",
       "BsmtExposure     2.602740\n",
       "BsmtFinType1     2.534247\n",
       "BsmtCond         2.534247\n",
       "dtype: float64"
      ]
     },
     "execution_count": 5,
     "metadata": {},
     "output_type": "execute_result"
    }
   ],
   "source": [
    "(((df.isnull().sum())*100)/len(df)).sort_values(\n",
    "            ascending = False, kind = 'mergesort').head(15)"
   ]
  },
  {
   "cell_type": "code",
   "execution_count": 6,
   "metadata": {
    "execution": {
     "iopub.execute_input": "2020-10-18T13:42:58.560012Z",
     "iopub.status.busy": "2020-10-18T13:42:58.558958Z",
     "iopub.status.idle": "2020-10-18T13:42:58.568788Z",
     "shell.execute_reply": "2020-10-18T13:42:58.569307Z"
    },
    "papermill": {
     "duration": 0.038152,
     "end_time": "2020-10-18T13:42:58.569461",
     "exception": false,
     "start_time": "2020-10-18T13:42:58.531309",
     "status": "completed"
    },
    "tags": []
   },
   "outputs": [
    {
     "data": {
      "text/plain": [
       "PoolQC          99.794380\n",
       "MiscFeature     96.504455\n",
       "Alley           92.666210\n",
       "Fence           80.123372\n",
       "FireplaceQu     50.034270\n",
       "LotFrontage     15.558602\n",
       "GarageCond       5.346127\n",
       "GarageQual       5.346127\n",
       "GarageFinish     5.346127\n",
       "GarageYrBlt      5.346127\n",
       "GarageType       5.209047\n",
       "BsmtCond         3.084304\n",
       "BsmtExposure     3.015764\n",
       "BsmtQual         3.015764\n",
       "BsmtFinType2     2.878684\n",
       "BsmtFinType1     2.878684\n",
       "MasVnrType       1.096642\n",
       "MasVnrArea       1.028101\n",
       "MSZoning         0.274160\n",
       "Functional       0.137080\n",
       "BsmtHalfBath     0.137080\n",
       "BsmtFullBath     0.137080\n",
       "Utilities        0.137080\n",
       "SaleType         0.068540\n",
       "GarageArea       0.068540\n",
       "GarageCars       0.068540\n",
       "KitchenQual      0.068540\n",
       "TotalBsmtSF      0.068540\n",
       "BsmtUnfSF        0.068540\n",
       "BsmtFinSF2       0.068540\n",
       "dtype: float64"
      ]
     },
     "execution_count": 6,
     "metadata": {},
     "output_type": "execute_result"
    }
   ],
   "source": [
    "(((dt.isnull().sum())*100)/len(dt)).sort_values(\n",
    "            ascending = False, kind = 'mergesort').head(30)"
   ]
  },
  {
   "cell_type": "code",
   "execution_count": 7,
   "metadata": {
    "execution": {
     "iopub.execute_input": "2020-10-18T13:42:58.610759Z",
     "iopub.status.busy": "2020-10-18T13:42:58.610033Z",
     "iopub.status.idle": "2020-10-18T13:42:58.617937Z",
     "shell.execute_reply": "2020-10-18T13:42:58.617351Z"
    },
    "papermill": {
     "duration": 0.03264,
     "end_time": "2020-10-18T13:42:58.618064",
     "exception": false,
     "start_time": "2020-10-18T13:42:58.585424",
     "status": "completed"
    },
    "tags": []
   },
   "outputs": [],
   "source": [
    "df.drop(['Id','PoolQC','MiscFeature','Alley','Fence'],axis=1,inplace=True)\n",
    "dt.drop(['Id','PoolQC','MiscFeature','Alley','Fence'],axis=1,inplace=True)"
   ]
  },
  {
   "cell_type": "code",
   "execution_count": 8,
   "metadata": {
    "execution": {
     "iopub.execute_input": "2020-10-18T13:42:58.669191Z",
     "iopub.status.busy": "2020-10-18T13:42:58.668375Z",
     "iopub.status.idle": "2020-10-18T13:42:58.682553Z",
     "shell.execute_reply": "2020-10-18T13:42:58.681809Z"
    },
    "papermill": {
     "duration": 0.048589,
     "end_time": "2020-10-18T13:42:58.682696",
     "exception": false,
     "start_time": "2020-10-18T13:42:58.634107",
     "status": "completed"
    },
    "tags": []
   },
   "outputs": [
    {
     "data": {
      "text/plain": [
       "(2919, 75)"
      ]
     },
     "execution_count": 8,
     "metadata": {},
     "output_type": "execute_result"
    }
   ],
   "source": [
    "y = df['SalePrice']\n",
    "df.drop(['SalePrice'], axis = 1, inplace = True)\n",
    "data = pd.concat([df,dt], axis = 0)\n",
    "data.shape"
   ]
  },
  {
   "cell_type": "code",
   "execution_count": 9,
   "metadata": {
    "execution": {
     "iopub.execute_input": "2020-10-18T13:42:58.724271Z",
     "iopub.status.busy": "2020-10-18T13:42:58.723503Z",
     "iopub.status.idle": "2020-10-18T13:42:58.841088Z",
     "shell.execute_reply": "2020-10-18T13:42:58.841628Z"
    },
    "papermill": {
     "duration": 0.142186,
     "end_time": "2020-10-18T13:42:58.841801",
     "exception": false,
     "start_time": "2020-10-18T13:42:58.699615",
     "status": "completed"
    },
    "tags": []
   },
   "outputs": [
    {
     "data": {
      "text/html": [
       "<div>\n",
       "<style scoped>\n",
       "    .dataframe tbody tr th:only-of-type {\n",
       "        vertical-align: middle;\n",
       "    }\n",
       "\n",
       "    .dataframe tbody tr th {\n",
       "        vertical-align: top;\n",
       "    }\n",
       "\n",
       "    .dataframe thead th {\n",
       "        text-align: right;\n",
       "    }\n",
       "</style>\n",
       "<table border=\"1\" class=\"dataframe\">\n",
       "  <thead>\n",
       "    <tr style=\"text-align: right;\">\n",
       "      <th></th>\n",
       "      <th>MSSubClass</th>\n",
       "      <th>LotFrontage</th>\n",
       "      <th>LotArea</th>\n",
       "      <th>OverallQual</th>\n",
       "      <th>OverallCond</th>\n",
       "      <th>YearBuilt</th>\n",
       "      <th>YearRemodAdd</th>\n",
       "      <th>MasVnrArea</th>\n",
       "      <th>BsmtFinSF1</th>\n",
       "      <th>BsmtFinSF2</th>\n",
       "      <th>...</th>\n",
       "      <th>GarageArea</th>\n",
       "      <th>WoodDeckSF</th>\n",
       "      <th>OpenPorchSF</th>\n",
       "      <th>EnclosedPorch</th>\n",
       "      <th>3SsnPorch</th>\n",
       "      <th>ScreenPorch</th>\n",
       "      <th>PoolArea</th>\n",
       "      <th>MiscVal</th>\n",
       "      <th>MoSold</th>\n",
       "      <th>YrSold</th>\n",
       "    </tr>\n",
       "  </thead>\n",
       "  <tbody>\n",
       "    <tr>\n",
       "      <th>count</th>\n",
       "      <td>2919.000000</td>\n",
       "      <td>2433.000000</td>\n",
       "      <td>2919.000000</td>\n",
       "      <td>2919.000000</td>\n",
       "      <td>2919.000000</td>\n",
       "      <td>2919.000000</td>\n",
       "      <td>2919.000000</td>\n",
       "      <td>2896.000000</td>\n",
       "      <td>2918.000000</td>\n",
       "      <td>2918.000000</td>\n",
       "      <td>...</td>\n",
       "      <td>2918.000000</td>\n",
       "      <td>2919.000000</td>\n",
       "      <td>2919.000000</td>\n",
       "      <td>2919.000000</td>\n",
       "      <td>2919.000000</td>\n",
       "      <td>2919.000000</td>\n",
       "      <td>2919.000000</td>\n",
       "      <td>2919.000000</td>\n",
       "      <td>2919.000000</td>\n",
       "      <td>2919.000000</td>\n",
       "    </tr>\n",
       "    <tr>\n",
       "      <th>mean</th>\n",
       "      <td>57.137718</td>\n",
       "      <td>69.305795</td>\n",
       "      <td>10168.114080</td>\n",
       "      <td>6.089072</td>\n",
       "      <td>5.564577</td>\n",
       "      <td>1971.312778</td>\n",
       "      <td>1984.264474</td>\n",
       "      <td>102.201312</td>\n",
       "      <td>441.423235</td>\n",
       "      <td>49.582248</td>\n",
       "      <td>...</td>\n",
       "      <td>472.874572</td>\n",
       "      <td>93.709832</td>\n",
       "      <td>47.486811</td>\n",
       "      <td>23.098321</td>\n",
       "      <td>2.602261</td>\n",
       "      <td>16.062350</td>\n",
       "      <td>2.251799</td>\n",
       "      <td>50.825968</td>\n",
       "      <td>6.213087</td>\n",
       "      <td>2007.792737</td>\n",
       "    </tr>\n",
       "    <tr>\n",
       "      <th>std</th>\n",
       "      <td>42.517628</td>\n",
       "      <td>23.344905</td>\n",
       "      <td>7886.996359</td>\n",
       "      <td>1.409947</td>\n",
       "      <td>1.113131</td>\n",
       "      <td>30.291442</td>\n",
       "      <td>20.894344</td>\n",
       "      <td>179.334253</td>\n",
       "      <td>455.610826</td>\n",
       "      <td>169.205611</td>\n",
       "      <td>...</td>\n",
       "      <td>215.394815</td>\n",
       "      <td>126.526589</td>\n",
       "      <td>67.575493</td>\n",
       "      <td>64.244246</td>\n",
       "      <td>25.188169</td>\n",
       "      <td>56.184365</td>\n",
       "      <td>35.663946</td>\n",
       "      <td>567.402211</td>\n",
       "      <td>2.714762</td>\n",
       "      <td>1.314964</td>\n",
       "    </tr>\n",
       "    <tr>\n",
       "      <th>min</th>\n",
       "      <td>20.000000</td>\n",
       "      <td>21.000000</td>\n",
       "      <td>1300.000000</td>\n",
       "      <td>1.000000</td>\n",
       "      <td>1.000000</td>\n",
       "      <td>1872.000000</td>\n",
       "      <td>1950.000000</td>\n",
       "      <td>0.000000</td>\n",
       "      <td>0.000000</td>\n",
       "      <td>0.000000</td>\n",
       "      <td>...</td>\n",
       "      <td>0.000000</td>\n",
       "      <td>0.000000</td>\n",
       "      <td>0.000000</td>\n",
       "      <td>0.000000</td>\n",
       "      <td>0.000000</td>\n",
       "      <td>0.000000</td>\n",
       "      <td>0.000000</td>\n",
       "      <td>0.000000</td>\n",
       "      <td>1.000000</td>\n",
       "      <td>2006.000000</td>\n",
       "    </tr>\n",
       "    <tr>\n",
       "      <th>25%</th>\n",
       "      <td>20.000000</td>\n",
       "      <td>59.000000</td>\n",
       "      <td>7478.000000</td>\n",
       "      <td>5.000000</td>\n",
       "      <td>5.000000</td>\n",
       "      <td>1953.500000</td>\n",
       "      <td>1965.000000</td>\n",
       "      <td>0.000000</td>\n",
       "      <td>0.000000</td>\n",
       "      <td>0.000000</td>\n",
       "      <td>...</td>\n",
       "      <td>320.000000</td>\n",
       "      <td>0.000000</td>\n",
       "      <td>0.000000</td>\n",
       "      <td>0.000000</td>\n",
       "      <td>0.000000</td>\n",
       "      <td>0.000000</td>\n",
       "      <td>0.000000</td>\n",
       "      <td>0.000000</td>\n",
       "      <td>4.000000</td>\n",
       "      <td>2007.000000</td>\n",
       "    </tr>\n",
       "    <tr>\n",
       "      <th>50%</th>\n",
       "      <td>50.000000</td>\n",
       "      <td>68.000000</td>\n",
       "      <td>9453.000000</td>\n",
       "      <td>6.000000</td>\n",
       "      <td>5.000000</td>\n",
       "      <td>1973.000000</td>\n",
       "      <td>1993.000000</td>\n",
       "      <td>0.000000</td>\n",
       "      <td>368.500000</td>\n",
       "      <td>0.000000</td>\n",
       "      <td>...</td>\n",
       "      <td>480.000000</td>\n",
       "      <td>0.000000</td>\n",
       "      <td>26.000000</td>\n",
       "      <td>0.000000</td>\n",
       "      <td>0.000000</td>\n",
       "      <td>0.000000</td>\n",
       "      <td>0.000000</td>\n",
       "      <td>0.000000</td>\n",
       "      <td>6.000000</td>\n",
       "      <td>2008.000000</td>\n",
       "    </tr>\n",
       "    <tr>\n",
       "      <th>75%</th>\n",
       "      <td>70.000000</td>\n",
       "      <td>80.000000</td>\n",
       "      <td>11570.000000</td>\n",
       "      <td>7.000000</td>\n",
       "      <td>6.000000</td>\n",
       "      <td>2001.000000</td>\n",
       "      <td>2004.000000</td>\n",
       "      <td>164.000000</td>\n",
       "      <td>733.000000</td>\n",
       "      <td>0.000000</td>\n",
       "      <td>...</td>\n",
       "      <td>576.000000</td>\n",
       "      <td>168.000000</td>\n",
       "      <td>70.000000</td>\n",
       "      <td>0.000000</td>\n",
       "      <td>0.000000</td>\n",
       "      <td>0.000000</td>\n",
       "      <td>0.000000</td>\n",
       "      <td>0.000000</td>\n",
       "      <td>8.000000</td>\n",
       "      <td>2009.000000</td>\n",
       "    </tr>\n",
       "    <tr>\n",
       "      <th>max</th>\n",
       "      <td>190.000000</td>\n",
       "      <td>313.000000</td>\n",
       "      <td>215245.000000</td>\n",
       "      <td>10.000000</td>\n",
       "      <td>9.000000</td>\n",
       "      <td>2010.000000</td>\n",
       "      <td>2010.000000</td>\n",
       "      <td>1600.000000</td>\n",
       "      <td>5644.000000</td>\n",
       "      <td>1526.000000</td>\n",
       "      <td>...</td>\n",
       "      <td>1488.000000</td>\n",
       "      <td>1424.000000</td>\n",
       "      <td>742.000000</td>\n",
       "      <td>1012.000000</td>\n",
       "      <td>508.000000</td>\n",
       "      <td>576.000000</td>\n",
       "      <td>800.000000</td>\n",
       "      <td>17000.000000</td>\n",
       "      <td>12.000000</td>\n",
       "      <td>2010.000000</td>\n",
       "    </tr>\n",
       "  </tbody>\n",
       "</table>\n",
       "<p>8 rows × 36 columns</p>\n",
       "</div>"
      ],
      "text/plain": [
       "        MSSubClass  LotFrontage        LotArea  OverallQual  OverallCond  \\\n",
       "count  2919.000000  2433.000000    2919.000000  2919.000000  2919.000000   \n",
       "mean     57.137718    69.305795   10168.114080     6.089072     5.564577   \n",
       "std      42.517628    23.344905    7886.996359     1.409947     1.113131   \n",
       "min      20.000000    21.000000    1300.000000     1.000000     1.000000   \n",
       "25%      20.000000    59.000000    7478.000000     5.000000     5.000000   \n",
       "50%      50.000000    68.000000    9453.000000     6.000000     5.000000   \n",
       "75%      70.000000    80.000000   11570.000000     7.000000     6.000000   \n",
       "max     190.000000   313.000000  215245.000000    10.000000     9.000000   \n",
       "\n",
       "         YearBuilt  YearRemodAdd   MasVnrArea   BsmtFinSF1   BsmtFinSF2  ...  \\\n",
       "count  2919.000000   2919.000000  2896.000000  2918.000000  2918.000000  ...   \n",
       "mean   1971.312778   1984.264474   102.201312   441.423235    49.582248  ...   \n",
       "std      30.291442     20.894344   179.334253   455.610826   169.205611  ...   \n",
       "min    1872.000000   1950.000000     0.000000     0.000000     0.000000  ...   \n",
       "25%    1953.500000   1965.000000     0.000000     0.000000     0.000000  ...   \n",
       "50%    1973.000000   1993.000000     0.000000   368.500000     0.000000  ...   \n",
       "75%    2001.000000   2004.000000   164.000000   733.000000     0.000000  ...   \n",
       "max    2010.000000   2010.000000  1600.000000  5644.000000  1526.000000  ...   \n",
       "\n",
       "        GarageArea   WoodDeckSF  OpenPorchSF  EnclosedPorch    3SsnPorch  \\\n",
       "count  2918.000000  2919.000000  2919.000000    2919.000000  2919.000000   \n",
       "mean    472.874572    93.709832    47.486811      23.098321     2.602261   \n",
       "std     215.394815   126.526589    67.575493      64.244246    25.188169   \n",
       "min       0.000000     0.000000     0.000000       0.000000     0.000000   \n",
       "25%     320.000000     0.000000     0.000000       0.000000     0.000000   \n",
       "50%     480.000000     0.000000    26.000000       0.000000     0.000000   \n",
       "75%     576.000000   168.000000    70.000000       0.000000     0.000000   \n",
       "max    1488.000000  1424.000000   742.000000    1012.000000   508.000000   \n",
       "\n",
       "       ScreenPorch     PoolArea       MiscVal       MoSold       YrSold  \n",
       "count  2919.000000  2919.000000   2919.000000  2919.000000  2919.000000  \n",
       "mean     16.062350     2.251799     50.825968     6.213087  2007.792737  \n",
       "std      56.184365    35.663946    567.402211     2.714762     1.314964  \n",
       "min       0.000000     0.000000      0.000000     1.000000  2006.000000  \n",
       "25%       0.000000     0.000000      0.000000     4.000000  2007.000000  \n",
       "50%       0.000000     0.000000      0.000000     6.000000  2008.000000  \n",
       "75%       0.000000     0.000000      0.000000     8.000000  2009.000000  \n",
       "max     576.000000   800.000000  17000.000000    12.000000  2010.000000  \n",
       "\n",
       "[8 rows x 36 columns]"
      ]
     },
     "execution_count": 9,
     "metadata": {},
     "output_type": "execute_result"
    }
   ],
   "source": [
    "data.describe()"
   ]
  },
  {
   "cell_type": "markdown",
   "metadata": {
    "papermill": {
     "duration": 0.017783,
     "end_time": "2020-10-18T13:42:58.877517",
     "exception": false,
     "start_time": "2020-10-18T13:42:58.859734",
     "status": "completed"
    },
    "tags": []
   },
   "source": [
    "<h1> Replace Null </h1>"
   ]
  },
  {
   "cell_type": "code",
   "execution_count": 10,
   "metadata": {
    "execution": {
     "iopub.execute_input": "2020-10-18T13:42:58.940168Z",
     "iopub.status.busy": "2020-10-18T13:42:58.930648Z",
     "iopub.status.idle": "2020-10-18T13:42:58.985415Z",
     "shell.execute_reply": "2020-10-18T13:42:58.984727Z"
    },
    "papermill": {
     "duration": 0.090359,
     "end_time": "2020-10-18T13:42:58.985544",
     "exception": false,
     "start_time": "2020-10-18T13:42:58.895185",
     "status": "completed"
    },
    "tags": []
   },
   "outputs": [],
   "source": [
    "year_all = ['YearBuilt', 'YearRemodAdd','YrSold','MoSold','GarageYrBlt']\n",
    "for i in data:\n",
    "  if (data[i].dtypes == object and i != 'FireplaceQu') or i in year_all:\n",
    "    data[i] = data[i].fillna(data[i].mode()[0])"
   ]
  },
  {
   "cell_type": "code",
   "execution_count": 11,
   "metadata": {
    "execution": {
     "iopub.execute_input": "2020-10-18T13:42:59.031118Z",
     "iopub.status.busy": "2020-10-18T13:42:59.030238Z",
     "iopub.status.idle": "2020-10-18T13:42:59.035441Z",
     "shell.execute_reply": "2020-10-18T13:42:59.034773Z"
    },
    "papermill": {
     "duration": 0.03169,
     "end_time": "2020-10-18T13:42:59.035568",
     "exception": false,
     "start_time": "2020-10-18T13:42:59.003878",
     "status": "completed"
    },
    "tags": []
   },
   "outputs": [],
   "source": [
    "data['BsmtHalfBath'] = data['BsmtHalfBath'].fillna(data['BsmtHalfBath'].mode()[0])\n",
    "data['BsmtFullBath'] = data['BsmtFullBath'].fillna(data['BsmtFullBath'].mode()[0])\n",
    "data['GarageCars'] = data['GarageCars'].fillna(data['GarageCars'].mode()[0])"
   ]
  },
  {
   "cell_type": "code",
   "execution_count": 12,
   "metadata": {
    "execution": {
     "iopub.execute_input": "2020-10-18T13:42:59.080225Z",
     "iopub.status.busy": "2020-10-18T13:42:59.079452Z",
     "iopub.status.idle": "2020-10-18T13:42:59.111075Z",
     "shell.execute_reply": "2020-10-18T13:42:59.110293Z"
    },
    "papermill": {
     "duration": 0.057274,
     "end_time": "2020-10-18T13:42:59.111199",
     "exception": false,
     "start_time": "2020-10-18T13:42:59.053925",
     "status": "completed"
    },
    "tags": []
   },
   "outputs": [],
   "source": [
    "for i in data:\n",
    "  if data[i].dtypes != object:\n",
    "     data[i] = data[i].fillna(data[i].mean())\n",
    "     data[i] = data[i].astype('float64')"
   ]
  },
  {
   "cell_type": "code",
   "execution_count": 13,
   "metadata": {
    "execution": {
     "iopub.execute_input": "2020-10-18T13:42:59.161795Z",
     "iopub.status.busy": "2020-10-18T13:42:59.156569Z",
     "iopub.status.idle": "2020-10-18T13:44:03.373873Z",
     "shell.execute_reply": "2020-10-18T13:44:03.373241Z"
    },
    "papermill": {
     "duration": 64.244302,
     "end_time": "2020-10-18T13:44:03.374019",
     "exception": false,
     "start_time": "2020-10-18T13:42:59.129717",
     "status": "completed"
    },
    "tags": []
   },
   "outputs": [
    {
     "name": "stdout",
     "output_type": "stream",
     "text": [
      "LogisticRegression   61.33\n",
      "KNeighborsClassifier   56.67\n",
      "SVC   50.67\n",
      "DecisionTreeClassifier   66.67\n",
      "RandomForestClassifier   72.67\n",
      "GaussianNB   10.0\n",
      "GradientBoostingClassifier   70.67\n",
      "AdaBoostClassifier   46.0\n",
      "RandomForestClassifier(max_depth=20, n_estimators=4500)\n"
     ]
    }
   ],
   "source": [
    "# Replace Null using Classification\n",
    "\n",
    "classifiers = [\n",
    "    LogisticRegression(),\n",
    "    KNeighborsClassifier(3),\n",
    "    SVC(kernel=\"rbf\", C=0.01, probability=True),\n",
    "    DecisionTreeClassifier(),\n",
    "    RandomForestClassifier(ccp_alpha=0.0,max_depth=20, n_estimators=4500),\n",
    "    GaussianNB(),\n",
    "    GradientBoostingClassifier(learning_rate=0.03),\n",
    "    AdaBoostClassifier(learning_rate=0.6)]\n",
    "#Using only numerical features\n",
    "fireplace_data = data.select_dtypes(exclude=['object'])\n",
    "fireplace_data['FireplaceQu'] = data['FireplaceQu'].copy()\n",
    "\n",
    "def classify_missing(all_int_dataTe):\n",
    "  fire_train = pd.DataFrame()\n",
    "  fire_test = pd.DataFrame()\n",
    "  null_row_list = list(all_int_dataTe[all_int_dataTe['FireplaceQu'].isnull()].index.tolist())\n",
    "  col = list(all_int_dataTe.columns)\n",
    "  k = -1\n",
    "  for j in null_row_list:\n",
    "    try:\n",
    "      k+=1 \n",
    "      null_row_value = all_int_dataTe.iloc[j]\n",
    "      null_row_value = list(null_row_value.values)\n",
    "      for i in range(len(null_row_value)):\n",
    "        fire_test.loc[k,col[i]] = null_row_value[i]\n",
    "    except:\n",
    "      continue\n",
    "  fire_train = all_int_dataTe.dropna()\n",
    "  fire_test = fire_test.drop(['FireplaceQu'],axis = 1)\n",
    "\n",
    "  f_train = fire_train.drop(['FireplaceQu'],axis = 1)\n",
    "  y_train = fire_train['FireplaceQu']\n",
    "\n",
    "  \n",
    "  le = preprocessing.LabelEncoder()\n",
    "  le.fit(y_train)\n",
    "  y_train = le.transform(y_train)\n",
    "\n",
    "  \n",
    "  X_train, X_test, y_train, y_test = train_test_split(f_train, y_train, test_size=0.1, random_state=1)\n",
    "  r = 0\n",
    "  for clf in classifiers:\n",
    "    clf.fit(X_train,y_train)\n",
    "    print(clf.__class__.__name__,' ', round(clf.score(X_test, y_test) * 100, 2))\n",
    "    if r < clf.score(X_test, y_test):\n",
    "      r = clf.score(X_test, y_test)\n",
    "      model = clf\n",
    "  print(model)\n",
    "  model.fit(X_train,y_train)\n",
    "  Y_prediction = model.predict(fire_test)\n",
    "  res = le.inverse_transform(Y_prediction)\n",
    "\n",
    "  for i in range(len(null_row_list)):\n",
    "    try:\n",
    "      all_int_dataTe.loc[null_row_list[i],'FireplaceQu'] = res[i]\n",
    "    except:\n",
    "      print('error')\n",
    "  return all_int_dataTe['FireplaceQu']\n",
    "data['FireplaceQu'] = classify_missing(fireplace_data)"
   ]
  },
  {
   "cell_type": "code",
   "execution_count": 14,
   "metadata": {
    "execution": {
     "iopub.execute_input": "2020-10-18T13:44:03.435708Z",
     "iopub.status.busy": "2020-10-18T13:44:03.434906Z",
     "iopub.status.idle": "2020-10-18T13:44:03.443465Z",
     "shell.execute_reply": "2020-10-18T13:44:03.444065Z"
    },
    "papermill": {
     "duration": 0.048998,
     "end_time": "2020-10-18T13:44:03.444216",
     "exception": false,
     "start_time": "2020-10-18T13:44:03.395218",
     "status": "completed"
    },
    "tags": []
   },
   "outputs": [
    {
     "data": {
      "text/plain": [
       "SaleCondition    0.0\n",
       "SaleType         0.0\n",
       "YrSold           0.0\n",
       "MoSold           0.0\n",
       "MiscVal          0.0\n",
       "PoolArea         0.0\n",
       "ScreenPorch      0.0\n",
       "3SsnPorch        0.0\n",
       "EnclosedPorch    0.0\n",
       "OpenPorchSF      0.0\n",
       "WoodDeckSF       0.0\n",
       "PavedDrive       0.0\n",
       "GarageCond       0.0\n",
       "GarageQual       0.0\n",
       "GarageArea       0.0\n",
       "dtype: float64"
      ]
     },
     "execution_count": 14,
     "metadata": {},
     "output_type": "execute_result"
    }
   ],
   "source": [
    "(((data.isnull().sum())*100)/len(data)).sort_values(\n",
    "            ascending = False, kind = 'mergesort').head(15)"
   ]
  }
 ],
 "metadata": {
  "kernelspec": {
   "display_name": "Python 3",
   "language": "python",
   "name": "python3"
  },
  "language_info": {
   "codemirror_mode": {
    "name": "ipython",
    "version": 3
   },
   "file_extension": ".py",
   "mimetype": "text/x-python",
   "name": "python",
   "nbconvert_exporter": "python",
   "pygments_lexer": "ipython3",
   "version": "3.7.6"
  },
  "papermill": {
   "duration": 71.55146,
   "end_time": "2020-10-18T13:44:03.574104",
   "environment_variables": {},
   "exception": null,
   "input_path": "__notebook__.ipynb",
   "output_path": "__notebook__.ipynb",
   "parameters": {},
   "start_time": "2020-10-18T13:42:52.022644",
   "version": "2.1.0"
  }
 },
 "nbformat": 4,
 "nbformat_minor": 4
}
